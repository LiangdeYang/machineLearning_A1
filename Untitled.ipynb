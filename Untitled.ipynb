{
 "cells": [
  {
   "cell_type": "code",
   "execution_count": 5,
   "metadata": {},
   "outputs": [],
   "source": [
    "import h5py\n",
    "import numpy as np\n",
    "import scipy as sci\n",
    "import matplotlib.pyplot as plt\n",
    "from matplotlib import style\n",
    "style.use('ggplot')\n",
    "\n",
    "from sklearn import svm\n",
    "\n",
    "with h5py.File('images_training.h5','r') as H:\n",
    "    data = np.copy(H['data'])\n",
    "\n",
    "with h5py.File('labels_training.h5','r') as H:\n",
    "    label = np.copy(H['label'])"
   ]
  },
  {
   "cell_type": "code",
   "execution_count": 6,
   "metadata": {},
   "outputs": [],
   "source": [
    "def zeroMean(dataMat):\n",
    "    s1,s2,s3 = dataMat.shape\n",
    "    new_data = dataMat\n",
    "    i = 0\n",
    "    totalMeanVal =np.zeros((s1,s2))\n",
    "    while i < 1:\n",
    "        meanVal=np.mean(dataMat[i] ,axis=0 )     #按列求均值，即求各个特征的均值\n",
    "        new_data[i] = dataMat[i]- meanVal\n",
    "        totalMeanVal[i] = meanVal\n",
    "        i+=1\n",
    "\n",
    "    return new_data, totalMeanVal"
   ]
  },
  {
   "cell_type": "code",
   "execution_count": 15,
   "metadata": {},
   "outputs": [
    {
     "name": "stdout",
     "output_type": "stream",
     "text": [
      "[  0.           0.           0.          45.82142857  63.85714286\n",
      "  63.89285714  63.28571429  63.32142857 118.53571429 192.17857143\n",
      " 192.57142857 174.21428571 173.67857143 182.78571429 174.07142857\n",
      " 182.75       183.53571429 173.78571429 164.32142857 191.78571429\n",
      " 201.64285714 155.85714286  72.85714286  73.17857143  63.89285714\n",
      "  36.46428571  35.82142857   0.        ]\n"
     ]
    }
   ],
   "source": [
    "new_data , meanVal = zeroMean(data)\n",
    "print(meanVal[0])"
   ]
  },
  {
   "cell_type": "code",
   "execution_count": null,
   "metadata": {},
   "outputs": [],
   "source": []
  },
  {
   "cell_type": "code",
   "execution_count": null,
   "metadata": {},
   "outputs": [],
   "source": []
  }
 ],
 "metadata": {
  "kernelspec": {
   "display_name": "Python 3",
   "language": "python",
   "name": "python3"
  },
  "language_info": {
   "codemirror_mode": {
    "name": "ipython",
    "version": 3
   },
   "file_extension": ".py",
   "mimetype": "text/x-python",
   "name": "python",
   "nbconvert_exporter": "python",
   "pygments_lexer": "ipython3",
   "version": "3.7.3"
  }
 },
 "nbformat": 4,
 "nbformat_minor": 2
}
